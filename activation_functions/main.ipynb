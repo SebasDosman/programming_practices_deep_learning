{
 "cells": [
  {
   "cell_type": "markdown",
   "metadata": {},
   "source": [
    "# Activation functions"
   ]
  },
  {
   "cell_type": "markdown",
   "metadata": {},
   "source": [
    "## Imports\n",
    "Code section that contains all the necessary imports."
   ]
  },
  {
   "cell_type": "code",
   "execution_count": 1,
   "metadata": {},
   "outputs": [],
   "source": [
    "import math\n",
    "import numpy as np"
   ]
  },
  {
   "cell_type": "markdown",
   "metadata": {},
   "source": [
    "## Activation functions\n",
    "Activation functions with which deep learning algorithms work. "
   ]
  },
  {
   "cell_type": "code",
   "execution_count": 2,
   "metadata": {},
   "outputs": [],
   "source": [
    "def step_function(z):\n",
    "    return 1 if z >= 0 else 0\n",
    "\n",
    "def sigmoid_function(z):\n",
    "    return (1 / (1 + math.exp(-z)))\n",
    "\n",
    "def tanh_function(z):\n",
    "    return (math.exp(z) - math.exp(-z)) / (math.exp(z) + math.exp(-z))\n",
    "\n",
    "def relu_function(z):\n",
    "    return max(0, z)"
   ]
  },
  {
   "cell_type": "markdown",
   "metadata": {},
   "source": [
    "## Function evaluation\n",
    "Evaluation of each of the activation functions with random numbers."
   ]
  },
  {
   "cell_type": "code",
   "execution_count": 8,
   "metadata": {},
   "outputs": [
    {
     "name": "stdout",
     "output_type": "stream",
     "text": [
      "[0, 0, 0, 0, 0, 1, 1, 1, 1, 1]\n",
      "[4.5397868702434395e-05, 0.0004187666844443735, 0.003851032355930255, 0.03444519566621118, 0.2476638011390717, 0.7523361988609284, 0.9655548043337889, 0.9961489676440697, 0.9995812333155556, 0.9999546021312976]\n",
      "[-0.9999999958776926, -0.9999996489750561, -0.9999701097696703, -0.9974579674738373, -0.8044548002984012, 0.8044548002984012, 0.9974579674738373, 0.9999701097696703, 0.9999996489750561, 0.9999999958776926]\n",
      "[0, 0, 0, 0, 0, 1.1111111111111107, 3.333333333333334, 5.555555555555557, 7.777777777777779, 10.0]\n"
     ]
    }
   ],
   "source": [
    "min = -10\n",
    "max = 10\n",
    "values = 10\n",
    "X_values = np.linspace(min, max, values)\n",
    "\n",
    "y_values_step = [step_function(x) for x in X_values]\n",
    "y_values_sigmoid = [sigmoid_function(x) for x in X_values]\n",
    "y_values_tanh = [tanh_function(x) for x in X_values]\n",
    "y_values_relu = [relu_function(x) for x in X_values]\n",
    "\n",
    "print(y_values_step)\n",
    "print(y_values_sigmoid)\n",
    "print(y_values_tanh)\n",
    "print(y_values_relu)"
   ]
  }
 ],
 "metadata": {
  "kernelspec": {
   "display_name": "Python 3",
   "language": "python",
   "name": "python3"
  },
  "language_info": {
   "codemirror_mode": {
    "name": "ipython",
    "version": 3
   },
   "file_extension": ".py",
   "mimetype": "text/x-python",
   "name": "python",
   "nbconvert_exporter": "python",
   "pygments_lexer": "ipython3",
   "version": "3.11.5"
  }
 },
 "nbformat": 4,
 "nbformat_minor": 2
}
