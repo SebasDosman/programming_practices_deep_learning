{
  "cells": [
    {
      "cell_type": "markdown",
      "metadata": {
        "id": "RD0WJL5UGwb4"
      },
      "source": [
        "# Single-layer perceptron network for uppercase alphabet classification"
      ]
    },
    {
      "cell_type": "markdown",
      "metadata": {
        "id": "qDvk7Gt3Co6W"
      },
      "source": [
        "## Imports\n",
        "Code section that contains all the necessary imports for the full execution of the prediction algorithm."
      ]
    },
    {
      "cell_type": "code",
      "execution_count": 1,
      "metadata": {
        "id": "xYuqTtff9vyH"
      },
      "outputs": [],
      "source": [
        "# Imports\n",
        "import numpy as np\n",
        "import matplotlib.pyplot as plt"
      ]
    },
    {
      "cell_type": "markdown",
      "metadata": {
        "id": "z5obkxUOCrYc"
      },
      "source": [
        "## Activation function\n",
        "Perceptron activation function called “step function”."
      ]
    },
    {
      "cell_type": "code",
      "execution_count": 2,
      "metadata": {
        "id": "zmWpszee_ABL"
      },
      "outputs": [],
      "source": [
        "# Activation (step function)\n",
        "def step_function(x):\n",
        "    return np.where(x >= 0, 1, 0)"
      ]
    },
    {
      "cell_type": "markdown",
      "metadata": {
        "id": "UEy4DO26CwXl"
      },
      "source": [
        "## Prediction function\n",
        "Function to make predictions by evaluating the activation function by the “net”."
      ]
    },
    {
      "cell_type": "code",
      "execution_count": 3,
      "metadata": {
        "id": "wWPKFouf_C-H"
      },
      "outputs": [],
      "source": [
        "# Function for making predictions(output)\n",
        "def perceptron_predict(X, weights):\n",
        "    Y = np.zeros(weights.shape[0], dtype=int)\n",
        "\n",
        "    for i in range(weights.shape[0]):\n",
        "        Y[i] = step_function(np.dot(X, weights[i, 1:]) + weights[i, 0])\n",
        "\n",
        "    return Y"
      ]
    },
    {
      "cell_type": "markdown",
      "metadata": {
        "id": "OmPDmhZnC1NN"
      },
      "source": [
        "## Training function\n",
        "Training of the perceptron by means of modifications of the different weights and storage of the total errors of each iteration for each epoch. At the end, the execution of the code is stopped when the total error is zero, in order to avoid iterations or epochs in spite of having already obtained the desired learning."
      ]
    },
    {
      "cell_type": "code",
      "execution_count": 4,
      "metadata": {
        "id": "mSLsadTN_GFB"
      },
      "outputs": [],
      "source": [
        "# Perceptron algorithm\n",
        "def perceptron_train(X, y, learning_rate=0.1, epochs=100):\n",
        "    # Initialize weights (one more for bias)\n",
        "    weights = np.random.rand(y.shape[1], X.shape[1] + 1)\n",
        "\n",
        "    # Error vector\n",
        "    errors = []\n",
        "\n",
        "    # Training\n",
        "    for _ in range(epochs):\n",
        "        total_error = 0\n",
        "\n",
        "        for xi, target in zip(X, y):\n",
        "            # Calculate output(prediction)\n",
        "            output = perceptron_predict(xi, weights)\n",
        "\n",
        "            # Calculate the absolute error\n",
        "            error = target - output\n",
        "            total_error += sum(abs(error))\n",
        "\n",
        "            # Update weights for each neuron\n",
        "            for i in range(weights.shape[0]):\n",
        "                update = learning_rate * error[i]\n",
        "                weights[i, 1:] += update * xi\n",
        "                weights[i, 0] += update\n",
        "\n",
        "        errors.append(int(total_error))\n",
        "\n",
        "        # Break code execution with a total error equal to zero\n",
        "        if total_error == 0:\n",
        "            break\n",
        "\n",
        "    return weights, errors"
      ]
    },
    {
      "cell_type": "markdown",
      "metadata": {
        "id": "8F_NgCs5C63j"
      },
      "source": [
        "## Input data, output data and training\n",
        "The input and output data are stored in variables for further processing in the perceptron and their respective training."
      ]
    },
    {
      "cell_type": "code",
      "execution_count": 5,
      "metadata": {
        "colab": {
          "base_uri": "https://localhost:8080/"
        },
        "id": "y2s2tt03_S2W",
        "outputId": "8afeb195-fa5c-40cd-a29b-30bc6cadcfe0"
      },
      "outputs": [
        {
          "name": "stdout",
          "output_type": "stream",
          "text": [
            "Weights: [[ 0.5376449   0.23206747  0.04945494  0.10585646  0.03618572  0.25983445\n",
            "   1.50613544 -0.46972376 -0.32517549 -0.22383197  1.60823234 -0.6162766\n",
            "   0.5267099  -0.2730632  -0.13854534  0.08990755 -2.34046698  0.98246573\n",
            "   0.04091411  1.23721509 -1.29159412 -1.18492936 -0.34664043 -0.06403046\n",
            "   0.62527907 -0.67375888]\n",
            " [-0.40867358  0.08436892 -0.3572589  -0.01771065 -0.07655767  0.07878335\n",
            "  -0.66350176  0.59441058 -0.10708539  1.17909359 -0.38790451 -0.07724025\n",
            "   0.24179263 -0.49244774  0.19565572  0.266526    0.64423112  0.35387681\n",
            "   0.69969693 -1.06759249  0.18304463  0.51040889  0.70675005 -0.31062145\n",
            "  -0.44792681  0.75697689]\n",
            " [-1.07511255  0.61194878  0.00615254  0.12648937 -0.10249807  0.08146098\n",
            "   0.7471789   0.23748229  0.90941786 -0.20235379 -0.9953418   0.12484928\n",
            "  -0.30237425 -0.11294393 -0.47795339  1.41348523  0.7802341   0.34468531\n",
            "  -0.22876993 -0.2432485  -0.22935482  0.1700844  -0.48295379  0.0237677\n",
            "   0.48097833 -0.9458102 ]\n",
            " [-1.78740942 -0.07204695  0.39349552 -0.01693883  0.69238159  1.03870334\n",
            "   0.44443902 -0.85181472 -0.58248818 -0.26070246  0.10965217  0.56960916\n",
            "  -0.48929095  0.89667958 -0.37560987 -1.40753406  0.08448441  0.41480525\n",
            "  -0.77800212  0.82040592  0.78709869 -0.20463378  0.146859    0.05896559\n",
            "  -0.20161969 -0.03574961]\n",
            " [-0.59965491 -1.89495099 -0.03708437 -0.41736808  0.21266994  0.61119189\n",
            "   0.71127776 -0.31711027  0.40692751  0.52128818 -0.96224837  0.82863054\n",
            "   0.57503715  0.29177102 -1.1217448   0.93689503  0.11151437  0.39988492\n",
            "   1.67924701  0.066682    0.51337572 -0.83596619  0.39193287 -0.28250743\n",
            "   0.75897148  0.2512651 ]]\n",
            "Errors: [65, 52, 48, 41, 38, 33, 37, 34, 32, 38, 34, 24, 27, 25, 24, 26, 22, 25, 26, 23, 23, 19, 15, 18, 19, 19, 19, 17, 17, 21, 26, 15, 19, 16, 13, 15, 17, 15, 12, 11, 18, 17, 13, 13, 10, 10, 10, 10, 10, 12, 11, 11, 10, 10, 10, 11, 11, 10, 10, 10, 10, 10, 10, 10, 10, 10, 10, 10, 10, 10, 10, 10, 10, 9, 8, 8, 8, 8, 8, 8, 8, 8, 8, 8, 8, 8, 8, 8, 8, 8, 8, 8, 8, 8, 8, 8, 8, 8, 8, 8]\n"
          ]
        }
      ],
      "source": [
        "# Prepare input and output data\n",
        "# Input data for uppercase alphabet pattern\n",
        "X = np.array([\n",
        "    [0, 1, 1, 1, 0, 1, 0, 0, 0, 1, 1, 1, 1, 1, 1, 1, 0, 0, 0, 1, 1, 0, 0, 0, 1], # A\n",
        "    [1, 1, 1, 1, 0, 1, 0, 0, 0, 1, 1, 1, 1, 1, 0, 1, 0, 0, 0, 1, 1, 1, 1, 1, 0], # B\n",
        "    [0, 1, 1, 1, 1, 1, 0, 0, 0, 0, 1, 0, 0, 0, 0, 1, 0, 0, 0, 0, 0, 1, 1, 1, 1], # C\n",
        "    [1, 1, 1, 1, 0, 1, 0, 0, 0, 1, 1, 0, 0, 0, 1, 1, 0, 0, 0, 1, 1, 1, 1, 1, 0], # D\n",
        "    [1, 1, 1, 1, 1, 1, 0, 0, 0, 0, 1, 1, 1, 1, 1, 1, 0, 0, 0, 0, 1, 1, 1, 1, 1], # E\n",
        "    [1, 1, 1, 1, 1, 1, 0, 0, 0, 0, 1, 1, 1, 1, 0, 1, 0, 0, 0, 0, 1, 0, 0, 0, 0], # F\n",
        "    [0, 1, 1, 1, 1, 1, 0, 0, 0, 0, 1, 0, 1, 1, 1, 1, 0, 0, 0, 1, 0, 1, 1, 1, 1], # G\n",
        "    [1, 0, 0, 0, 1, 1, 0, 0, 0, 1, 1, 1, 1, 1, 1, 1, 0, 0, 0, 1, 1, 0, 0, 0, 1], # H\n",
        "    [1, 1, 1, 1, 1, 0, 0, 1, 0, 0, 0, 0, 1, 0, 0, 0, 0, 1, 0, 0, 1, 1, 1, 1, 1], # I\n",
        "    [0, 1, 1, 1, 1, 0, 0, 0, 1, 0, 0, 0, 0, 1, 0, 1, 0, 0, 1, 0, 0, 1, 1, 0, 0], # J\n",
        "    [1, 0, 0, 0, 1, 1, 0, 0, 1, 0, 1, 1, 1, 0, 0, 1, 0, 0, 1, 0, 1, 0, 0, 0, 1], # K\n",
        "    [1, 0, 0, 0, 0, 1, 0, 0, 0, 0, 1, 0, 0, 0, 0, 1, 0, 0, 0, 0, 1, 1, 1, 1, 1], # L\n",
        "    [1, 0, 0, 0, 1, 1, 1, 0, 1, 1, 1, 0, 1, 0, 1, 1, 0, 0, 0, 1, 1, 0, 0, 0, 1], # M\n",
        "    [1, 0, 0, 0, 1, 1, 1, 0, 0, 1, 1, 0, 1, 0, 1, 1, 0, 0, 1, 1, 1, 0, 0, 0, 1], # N\n",
        "    [0, 1, 1, 1, 0, 1, 0, 0, 0, 1, 1, 0, 0, 0, 1, 1, 0, 0, 0, 1, 0, 1, 1, 1, 0], # O\n",
        "    [1, 1, 1, 1, 0, 1, 0, 0, 0, 1, 1, 1, 1, 1, 0, 1, 0, 0, 0, 0, 1, 0, 0, 0, 0], # P\n",
        "    [0, 1, 1, 1, 0, 1, 0, 0, 0, 1, 1, 0, 0, 0, 1, 1, 0, 0, 1, 1, 0, 1, 1, 1, 1], # Q\n",
        "    [1, 1, 1, 1, 0, 1, 0, 0, 0, 1, 1, 1, 1, 1, 0, 1, 0, 0, 1, 0, 1, 0, 0, 0, 1], # R\n",
        "    [0, 1, 1, 1, 1, 1, 0, 0, 0, 0, 0, 1, 1, 1, 0, 0, 0, 0, 0, 1, 1, 1, 1, 1, 0], # S\n",
        "    [1, 1, 1, 1, 1, 0, 0, 1, 0, 0, 0, 0, 1, 0, 0, 0, 0, 1, 0, 0, 0, 0, 1, 0, 0], # T\n",
        "    [1, 0, 0, 0, 1, 1, 0, 0, 0, 1, 1, 0, 0, 0, 1, 1, 0, 0, 0, 1, 0, 1, 1, 1, 0], # U\n",
        "    [1, 0, 0, 0, 1, 1, 0, 0, 0, 1, 1, 0, 0, 0, 1, 0, 1, 0, 1, 0, 0, 0, 1, 0, 0], # V\n",
        "    [1, 0, 0, 0, 1, 1, 0, 0, 0, 1, 1, 0, 1, 0, 1, 1, 1, 0, 1, 1, 1, 0, 0, 0, 1], # W\n",
        "    [1, 0, 0, 0, 1, 0, 1, 0, 1, 0, 0, 0, 1, 0, 0, 0, 1, 0, 1, 0, 1, 0, 0, 0, 1], # X\n",
        "    [1, 0, 0, 0, 1, 0, 1, 0, 1, 0, 0, 0, 1, 0, 0, 0, 0, 1, 0, 0, 0, 0, 1, 0, 0], # Y\n",
        "    [1, 1, 1, 1, 1, 0, 0, 0, 1, 0, 0, 0, 1, 0, 0, 0, 1, 0, 0, 0, 1, 1, 1, 1, 1], # Z\n",
        "])\n",
        "\n",
        "# Output data for uppercase alphabet pattern\n",
        "y = np.array([\n",
        "    [0, 0, 0, 0, 1],  # A\n",
        "    [0, 0, 0, 1, 0],  # B\n",
        "    [0, 0, 0, 1, 1],  # C\n",
        "    [0, 0, 1, 0, 0],  # D\n",
        "    [0, 0, 1, 0, 1],  # E\n",
        "    [0, 0, 1, 1, 0],  # F\n",
        "    [0, 0, 1, 1, 1],  # G\n",
        "    [0, 1, 0, 0, 0],  # H\n",
        "    [0, 1, 0, 0, 1],  # I\n",
        "    [0, 1, 0, 1, 0],  # J\n",
        "    [0, 1, 0, 1, 1],  # K\n",
        "    [0, 1, 1, 0, 0],  # L\n",
        "    [0, 1, 1, 0, 1],  # M\n",
        "    [0, 1, 1, 1, 0],  # N\n",
        "    [0, 1, 1, 1, 1],  # O\n",
        "    [1, 0, 0, 0, 0],  # P\n",
        "    [1, 0, 0, 0, 1],  # Q\n",
        "    [1, 0, 0, 1, 0],  # R\n",
        "    [1, 0, 0, 1, 1],  # S\n",
        "    [1, 0, 1, 0, 0],  # T\n",
        "    [1, 0, 1, 0, 1],  # U\n",
        "    [1, 0, 1, 1, 0],  # V\n",
        "    [1, 0, 1, 1, 1],  # W\n",
        "    [1, 1, 0, 0, 0],  # X\n",
        "    [1, 1, 0, 0, 1],  # Y\n",
        "    [1, 1, 0, 1, 0]   # Z\n",
        "])\n",
        "\n",
        "# Training the perceptron\n",
        "weights, errors = perceptron_train(X, y)\n",
        "\n",
        "print(f\"Weights: {weights}\")\n",
        "print(f\"Errors: {errors}\")"
      ]
    },
    {
      "cell_type": "markdown",
      "metadata": {
        "id": "70iqEh7iHwfu"
      },
      "source": [
        "## Alphabet patterns\n",
        "The entries have a specific pattern that will determine the sorting algorithm from one letter to another."
      ]
    },
    {
      "cell_type": "code",
      "execution_count": 6,
      "metadata": {
        "colab": {
          "base_uri": "https://localhost:8080/"
        },
        "id": "ZD9l4YbFHuE-",
        "outputId": "88cbd240-ad95-492b-92b8-725232efde13"
      },
      "outputs": [
        {
          "name": "stdout",
          "output_type": "stream",
          "text": [
            "Letter 1:\n",
            "0 1 1 1 0\n",
            "1 0 0 0 1\n",
            "1 1 1 1 1\n",
            "1 0 0 0 1\n",
            "1 0 0 0 1\n",
            "\n",
            "Letter 2:\n",
            "1 1 1 1 0\n",
            "1 0 0 0 1\n",
            "1 1 1 1 0\n",
            "1 0 0 0 1\n",
            "1 1 1 1 0\n",
            "\n",
            "Letter 3:\n",
            "0 1 1 1 1\n",
            "1 0 0 0 0\n",
            "1 0 0 0 0\n",
            "1 0 0 0 0\n",
            "0 1 1 1 1\n",
            "\n",
            "Letter 4:\n",
            "1 1 1 1 0\n",
            "1 0 0 0 1\n",
            "1 0 0 0 1\n",
            "1 0 0 0 1\n",
            "1 1 1 1 0\n",
            "\n",
            "Letter 5:\n",
            "1 1 1 1 1\n",
            "1 0 0 0 0\n",
            "1 1 1 1 1\n",
            "1 0 0 0 0\n",
            "1 1 1 1 1\n",
            "\n",
            "Letter 6:\n",
            "1 1 1 1 1\n",
            "1 0 0 0 0\n",
            "1 1 1 1 0\n",
            "1 0 0 0 0\n",
            "1 0 0 0 0\n",
            "\n",
            "Letter 7:\n",
            "0 1 1 1 1\n",
            "1 0 0 0 0\n",
            "1 0 1 1 1\n",
            "1 0 0 0 1\n",
            "0 1 1 1 1\n",
            "\n",
            "Letter 8:\n",
            "1 0 0 0 1\n",
            "1 0 0 0 1\n",
            "1 1 1 1 1\n",
            "1 0 0 0 1\n",
            "1 0 0 0 1\n",
            "\n",
            "Letter 9:\n",
            "1 1 1 1 1\n",
            "0 0 1 0 0\n",
            "0 0 1 0 0\n",
            "0 0 1 0 0\n",
            "1 1 1 1 1\n",
            "\n",
            "Letter 10:\n",
            "0 1 1 1 1\n",
            "0 0 0 1 0\n",
            "0 0 0 1 0\n",
            "1 0 0 1 0\n",
            "0 1 1 0 0\n",
            "\n",
            "Letter 11:\n",
            "1 0 0 0 1\n",
            "1 0 0 1 0\n",
            "1 1 1 0 0\n",
            "1 0 0 1 0\n",
            "1 0 0 0 1\n",
            "\n",
            "Letter 12:\n",
            "1 0 0 0 0\n",
            "1 0 0 0 0\n",
            "1 0 0 0 0\n",
            "1 0 0 0 0\n",
            "1 1 1 1 1\n",
            "\n",
            "Letter 13:\n",
            "1 0 0 0 1\n",
            "1 1 0 1 1\n",
            "1 0 1 0 1\n",
            "1 0 0 0 1\n",
            "1 0 0 0 1\n",
            "\n",
            "Letter 14:\n",
            "1 0 0 0 1\n",
            "1 1 0 0 1\n",
            "1 0 1 0 1\n",
            "1 0 0 1 1\n",
            "1 0 0 0 1\n",
            "\n",
            "Letter 15:\n",
            "0 1 1 1 0\n",
            "1 0 0 0 1\n",
            "1 0 0 0 1\n",
            "1 0 0 0 1\n",
            "0 1 1 1 0\n",
            "\n",
            "Letter 16:\n",
            "1 1 1 1 0\n",
            "1 0 0 0 1\n",
            "1 1 1 1 0\n",
            "1 0 0 0 0\n",
            "1 0 0 0 0\n",
            "\n",
            "Letter 17:\n",
            "0 1 1 1 0\n",
            "1 0 0 0 1\n",
            "1 0 0 0 1\n",
            "1 0 0 1 1\n",
            "0 1 1 1 1\n",
            "\n",
            "Letter 18:\n",
            "1 1 1 1 0\n",
            "1 0 0 0 1\n",
            "1 1 1 1 0\n",
            "1 0 0 1 0\n",
            "1 0 0 0 1\n",
            "\n",
            "Letter 19:\n",
            "0 1 1 1 1\n",
            "1 0 0 0 0\n",
            "0 1 1 1 0\n",
            "0 0 0 0 1\n",
            "1 1 1 1 0\n",
            "\n",
            "Letter 20:\n",
            "1 1 1 1 1\n",
            "0 0 1 0 0\n",
            "0 0 1 0 0\n",
            "0 0 1 0 0\n",
            "0 0 1 0 0\n",
            "\n",
            "Letter 21:\n",
            "1 0 0 0 1\n",
            "1 0 0 0 1\n",
            "1 0 0 0 1\n",
            "1 0 0 0 1\n",
            "0 1 1 1 0\n",
            "\n",
            "Letter 22:\n",
            "1 0 0 0 1\n",
            "1 0 0 0 1\n",
            "1 0 0 0 1\n",
            "0 1 0 1 0\n",
            "0 0 1 0 0\n",
            "\n",
            "Letter 23:\n",
            "1 0 0 0 1\n",
            "1 0 0 0 1\n",
            "1 0 1 0 1\n",
            "1 1 0 1 1\n",
            "1 0 0 0 1\n",
            "\n",
            "Letter 24:\n",
            "1 0 0 0 1\n",
            "0 1 0 1 0\n",
            "0 0 1 0 0\n",
            "0 1 0 1 0\n",
            "1 0 0 0 1\n",
            "\n",
            "Letter 25:\n",
            "1 0 0 0 1\n",
            "0 1 0 1 0\n",
            "0 0 1 0 0\n",
            "0 0 1 0 0\n",
            "0 0 1 0 0\n",
            "\n",
            "Letter 26:\n",
            "1 1 1 1 1\n",
            "0 0 0 1 0\n",
            "0 0 1 0 0\n",
            "0 1 0 0 0\n",
            "1 1 1 1 1\n",
            "\n"
          ]
        }
      ],
      "source": [
        "# Printing alphabet patterns\n",
        "for i in range(X.shape[0]):\n",
        "    print(f\"Letter {i + 1}:\")\n",
        "\n",
        "    for j in range(0, X.shape[1], 5):\n",
        "        print(\" \".join(map(str, X[i][j:j + 5])))\n",
        "\n",
        "    print()"
      ]
    },
    {
      "cell_type": "markdown",
      "metadata": {
        "id": "lW0xMXq9DC3K"
      },
      "source": [
        "## Overall error graph\n",
        "Graph of the global error taking into account a total sum of each error within each of the iterated epochs."
      ]
    },
    {
      "cell_type": "code",
      "execution_count": 7,
      "metadata": {
        "colab": {
          "base_uri": "https://localhost:8080/",
          "height": 472
        },
        "id": "Jt91MtHO_Y33",
        "outputId": "bdb0872a-6145-4ca8-9a52-6473492c0e65"
      },
      "outputs": [
        {
          "data": {
            "image/png": "[encoded data removed]",
            "text/plain": [
              "<Figure size 640x480 with 1 Axes>"
            ]
          },
          "metadata": {},
          "output_type": "display_data"
        }
      ],
      "source": [
        "# Graphing the global error in each epoch\n",
        "plt.figure(1)\n",
        "plt.plot(range(1, len(errors) + 1), errors, marker=\"o\")\n",
        "plt.xlabel(\"Epochs\")\n",
        "plt.ylabel(\"Total Error\")\n",
        "plt.title(\"Perceptron Training\")\n",
        "plt.grid(True)\n",
        "plt.show()"
      ]
    },
    {
      "cell_type": "markdown",
      "metadata": {
        "id": "2NFRXO8ODIJs"
      },
      "source": [
        "## Validation of predictions\n",
        "The predictions are validated with the previously stated inputs for the training of the same perceptron and the weights already modified to arrive at this learning."
      ]
    },
    {
      "cell_type": "code",
      "execution_count": 8,
      "metadata": {
        "colab": {
          "base_uri": "https://localhost:8080/"
        },
        "id": "UGPAIhQN_emd",
        "outputId": "8730f029-5466-4eac-d300-49347dc7bb87"
      },
      "outputs": [
        {
          "name": "stdout",
          "output_type": "stream",
          "text": [
            "Input: [0 1 1 1 0 1 0 0 0 1 1 1 1 1 1 1 0 0 0 1 1 0 0 0 1] - Prediction: [0 1 0 0 1]\n",
            "Input: [1 1 1 1 0 1 0 0 0 1 1 1 1 1 0 1 0 0 0 1 1 1 1 1 0] - Prediction: [0 0 0 1 0]\n",
            "Input: [0 1 1 1 1 1 0 0 0 0 1 0 0 0 0 1 0 0 0 0 0 1 1 1 1] - Prediction: [0 0 0 1 1]\n",
            "Input: [1 1 1 1 0 1 0 0 0 1 1 0 0 0 1 1 0 0 0 1 1 1 1 1 0] - Prediction: [0 0 1 0 0]\n",
            "Input: [1 1 1 1 1 1 0 0 0 0 1 1 1 1 1 1 0 0 0 0 1 1 1 1 1] - Prediction: [0 1 1 0 1]\n",
            "Input: [1 1 1 1 1 1 0 0 0 0 1 1 1 1 0 1 0 0 0 0 1 0 0 0 0] - Prediction: [0 0 1 1 0]\n",
            "Input: [0 1 1 1 1 1 0 0 0 0 1 0 1 1 1 1 0 0 0 1 0 1 1 1 1] - Prediction: [0 0 1 1 1]\n",
            "Input: [1 0 0 0 1 1 0 0 0 1 1 1 1 1 1 1 0 0 0 1 1 0 0 0 1] - Prediction: [0 1 0 0 0]\n",
            "Input: [1 1 1 1 1 0 0 1 0 0 0 0 1 0 0 0 0 1 0 0 1 1 1 1 1] - Prediction: [0 1 0 0 1]\n",
            "Input: [0 1 1 1 1 0 0 0 1 0 0 0 0 1 0 1 0 0 1 0 0 1 1 0 0] - Prediction: [0 1 0 1 0]\n",
            "Input: [1 0 0 0 1 1 0 0 1 0 1 1 1 0 0 1 0 0 1 0 1 0 0 0 1] - Prediction: [0 1 0 1 1]\n",
            "Input: [1 0 0 0 0 1 0 0 0 0 1 0 0 0 0 1 0 0 0 0 1 1 1 1 1] - Prediction: [0 1 1 0 0]\n",
            "Input: [1 0 0 0 1 1 1 0 1 1 1 0 1 0 1 1 0 0 0 1 1 0 0 0 1] - Prediction: [0 1 1 0 1]\n",
            "Input: [1 0 0 0 1 1 1 0 0 1 1 0 1 0 1 1 0 0 1 1 1 0 0 0 1] - Prediction: [0 1 1 1 0]\n",
            "Input: [0 1 1 1 0 1 0 0 0 1 1 0 0 0 1 1 0 0 0 1 0 1 1 1 0] - Prediction: [0 0 1 0 1]\n",
            "Input: [1 1 1 1 0 1 0 0 0 1 1 1 1 1 0 1 0 0 0 0 1 0 0 0 0] - Prediction: [1 0 0 1 0]\n",
            "Input: [0 1 1 1 0 1 0 0 0 1 1 0 0 0 1 1 0 0 1 1 0 1 1 1 1] - Prediction: [1 0 0 1 1]\n",
            "Input: [1 1 1 1 0 1 0 0 0 1 1 1 1 1 0 1 0 0 1 0 1 0 0 0 1] - Prediction: [1 0 0 1 0]\n",
            "Input: [0 1 1 1 1 1 0 0 0 0 0 1 1 1 0 0 0 0 0 1 1 1 1 1 0] - Prediction: [1 0 0 1 1]\n",
            "Input: [1 1 1 1 1 0 0 1 0 0 0 0 1 0 0 0 0 1 0 0 0 0 1 0 0] - Prediction: [1 0 1 0 0]\n",
            "Input: [1 0 0 0 1 1 0 0 0 1 1 0 0 0 1 1 0 0 0 1 0 1 1 1 0] - Prediction: [1 0 1 0 1]\n",
            "Input: [1 0 0 0 1 1 0 0 0 1 1 0 0 0 1 0 1 0 1 0 0 0 1 0 0] - Prediction: [1 0 1 1 0]\n",
            "Input: [1 0 0 0 1 1 0 0 0 1 1 0 1 0 1 1 1 0 1 1 1 0 0 0 1] - Prediction: [1 0 1 1 1]\n",
            "Input: [1 0 0 0 1 0 1 0 1 0 0 0 1 0 0 0 1 0 1 0 1 0 0 0 1] - Prediction: [1 1 0 0 0]\n",
            "Input: [1 0 0 0 1 0 1 0 1 0 0 0 1 0 0 0 0 1 0 0 0 0 1 0 0] - Prediction: [1 1 0 0 1]\n",
            "Input: [1 1 1 1 1 0 0 0 1 0 0 0 1 0 0 0 1 0 0 0 1 1 1 1 1] - Prediction: [1 1 0 1 0]\n"
          ]
        }
      ],
      "source": [
        "# Testing the perceptron with the input data\n",
        "for xi in X:\n",
        "    prediction = perceptron_predict(xi, weights)\n",
        "\n",
        "    print(f\"Input: {xi} - Prediction: {prediction}\")\n",
        "\n"
      ]
    },
    {
      "cell_type": "markdown",
      "metadata": {
        "id": "UpHc5nEICz4g"
      },
      "source": [
        "## Validation of predictions with noise data\n",
        "The predictions are validated with the weights already modified after training and are used with data that are not correctly formatted, so they have noise in the binary representation of the alphabet."
      ]
    },
    {
      "cell_type": "code",
      "execution_count": 19,
      "metadata": {
        "colab": {
          "base_uri": "https://localhost:8080/"
        },
        "id": "LoVySHfNDH8a",
        "outputId": "3d2ca561-331f-4382-86b7-7e00e9c0a157"
      },
      "outputs": [
        {
          "name": "stdout",
          "output_type": "stream",
          "text": [
            "Input: [0 1 1 1 0 1 0 1 0 1 1 1 1 1 1 1 0 0 0 1 1 0 0 0 1] - Prediction: [0 1 1 0 1]\n",
            "Input: [1 1 1 1 0 1 0 1 0 1 1 1 1 1 0 1 0 0 0 1 1 1 1 1 0] - Prediction: [0 0 1 1 0]\n",
            "Input: [0 1 1 1 1 1 0 0 0 0 1 0 0 0 0 1 0 0 0 1 0 1 1 1 1] - Prediction: [0 1 0 1 1]\n",
            "Input: [1 1 1 1 0 1 0 0 0 1 1 0 1 0 1 1 0 0 0 1 1 1 1 1 0] - Prediction: [0 0 1 1 0]\n",
            "Input: [1 1 1 1 1 1 1 0 0 0 1 1 1 1 1 1 0 0 0 0 1 1 1 1 1] - Prediction: [0 1 1 0 1]\n",
            "Input: [1 1 1 1 1 1 0 0 0 0 1 1 1 1 0 1 0 0 1 0 1 0 0 0 0] - Prediction: [0 0 1 1 0]\n",
            "Input: [0 1 1 1 1 1 0 0 0 0 1 0 1 1 1 1 0 1 0 1 0 1 1 1 1] - Prediction: [0 1 1 1 1]\n",
            "Input: [1 0 0 0 1 1 0 0 1 1 1 1 1 1 1 1 0 0 0 1 1 0 0 0 1] - Prediction: [0 1 0 0 0]\n",
            "Input: [1 1 1 1 1 0 1 1 0 0 0 0 1 0 0 0 0 1 0 0 1 1 1 1 1] - Prediction: [0 1 0 0 1]\n",
            "Input: [0 1 1 1 1 0 0 1 1 0 0 0 0 1 0 1 0 0 1 0 0 1 1 0 0] - Prediction: [0 1 0 1 0]\n",
            "Input: [1 0 0 0 1 1 0 0 1 0 1 1 1 0 0 1 0 1 1 0 1 0 0 0 1] - Prediction: [0 1 0 1 1]\n",
            "Input: [1 0 0 0 0 1 0 0 0 0 1 0 0 0 0 1 0 0 1 0 1 1 1 1 1] - Prediction: [0 0 1 0 0]\n",
            "Input: [1 0 0 0 1 1 1 1 1 1 1 0 1 0 1 1 0 0 0 1 1 0 0 0 1] - Prediction: [0 1 1 0 1]\n",
            "Input: [1 0 0 0 1 1 1 0 0 1 1 0 1 1 1 1 0 0 1 1 1 0 0 0 1] - Prediction: [0 1 1 1 0]\n",
            "Input: [0 1 1 1 0 1 0 0 0 1 1 0 1 0 1 1 0 0 0 1 0 1 1 1 0] - Prediction: [0 0 1 1 1]\n",
            "Input: [1 1 1 1 0 1 0 0 0 1 1 1 1 1 0 1 0 0 1 0 1 0 0 0 0] - Prediction: [1 0 0 1 0]\n",
            "Input: [0 1 1 1 1 1 0 0 0 1 1 0 0 0 1 1 0 0 1 1 0 1 1 1 1] - Prediction: [1 0 0 1 1]\n",
            "Input: [1 1 1 1 0 1 0 0 0 1 1 1 1 1 0 1 0 0 1 0 1 0 0 1 1] - Prediction: [1 0 0 1 0]\n",
            "Input: [0 1 1 1 1 1 0 0 1 0 0 1 1 1 0 0 0 0 0 1 1 1 1 1 0] - Prediction: [1 1 0 1 1]\n",
            "Input: [1 1 1 1 1 0 0 1 0 0 1 0 1 0 0 0 0 1 0 0 0 0 1 0 0] - Prediction: [0 0 1 1 1]\n",
            "Input: [1 0 1 0 1 1 0 0 0 1 1 0 0 0 1 1 0 0 0 1 0 1 1 1 0] - Prediction: [1 0 1 0 1]\n",
            "Input: [1 0 0 0 1 1 0 0 0 1 1 0 0 0 1 0 1 0 1 0 1 0 1 0 0] - Prediction: [1 0 1 0 0]\n",
            "Input: [1 0 0 0 1 1 0 0 1 1 1 0 1 0 1 1 1 0 1 1 1 0 0 0 1] - Prediction: [0 1 1 1 1]\n",
            "Input: [1 0 0 0 1 0 1 0 1 0 1 0 1 0 0 0 1 0 1 0 1 0 0 0 1] - Prediction: [0 1 0 1 0]\n",
            "Input: [1 0 0 0 1 0 1 0 1 0 1 0 1 0 0 0 0 1 0 0 0 0 1 0 0] - Prediction: [0 1 0 0 1]\n",
            "Input: [1 1 1 1 1 0 0 0 1 0 0 0 1 0 0 0 1 0 0 1 1 1 1 1 1] - Prediction: [0 1 0 1 0]\n"
          ]
        }
      ],
      "source": [
        "# Input data with noise for uppercase alphabet pattern\n",
        "X_test = np.array([\n",
        "    [0, 1, 1, 1, 0, 1, 0, 1, 0, 1, 1, 1, 1, 1, 1, 1, 0, 0, 0, 1, 1, 0, 0, 0, 1], # A\n",
        "    [1, 1, 1, 1, 0, 1, 0, 1, 0, 1, 1, 1, 1, 1, 0, 1, 0, 0, 0, 1, 1, 1, 1, 1, 0], # B\n",
        "    [0, 1, 1, 1, 1, 1, 0, 0, 0, 0, 1, 0, 0, 0, 0, 1, 0, 0, 0, 1, 0, 1, 1, 1, 1], # C\n",
        "    [1, 1, 1, 1, 0, 1, 0, 0, 0, 1, 1, 0, 1, 0, 1, 1, 0, 0, 0, 1, 1, 1, 1, 1, 0], # D\n",
        "    [1, 1, 1, 1, 1, 1, 1, 0, 0, 0, 1, 1, 1, 1, 1, 1, 0, 0, 0, 0, 1, 1, 1, 1, 1], # E\n",
        "    [1, 1, 1, 1, 1, 1, 0, 0, 0, 0, 1, 1, 1, 1, 0, 1, 0, 0, 1, 0, 1, 0, 0, 0, 0], # F\n",
        "    [0, 1, 1, 1, 1, 1, 0, 0, 0, 0, 1, 0, 1, 1, 1, 1, 0, 1, 0, 1, 0, 1, 1, 1, 1], # G\n",
        "    [1, 0, 0, 0, 1, 1, 0, 0, 1, 1, 1, 1, 1, 1, 1, 1, 0, 0, 0, 1, 1, 0, 0, 0, 1], # H\n",
        "    [1, 1, 1, 1, 1, 0, 1, 1, 0, 0, 0, 0, 1, 0, 0, 0, 0, 1, 0, 0, 1, 1, 1, 1, 1], # I\n",
        "    [0, 1, 1, 1, 1, 0, 0, 1, 1, 0, 0, 0, 0, 1, 0, 1, 0, 0, 1, 0, 0, 1, 1, 0, 0], # J\n",
        "    [1, 0, 0, 0, 1, 1, 0, 0, 1, 0, 1, 1, 1, 0, 0, 1, 0, 1, 1, 0, 1, 0, 0, 0, 1], # K\n",
        "    [1, 0, 0, 0, 0, 1, 0, 0, 0, 0, 1, 0, 0, 0, 0, 1, 0, 0, 1, 0, 1, 1, 1, 1, 1], # L\n",
        "    [1, 0, 0, 0, 1, 1, 1, 1, 1, 1, 1, 0, 1, 0, 1, 1, 0, 0, 0, 1, 1, 0, 0, 0, 1], # M\n",
        "    [1, 0, 0, 0, 1, 1, 1, 0, 0, 1, 1, 0, 1, 1, 1, 1, 0, 0, 1, 1, 1, 0, 0, 0, 1], # N\n",
        "    [0, 1, 1, 1, 0, 1, 0, 0, 0, 1, 1, 0, 1, 0, 1, 1, 0, 0, 0, 1, 0, 1, 1, 1, 0], # O\n",
        "    [1, 1, 1, 1, 0, 1, 0, 0, 0, 1, 1, 1, 1, 1, 0, 1, 0, 0, 1, 0, 1, 0, 0, 0, 0], # P\n",
        "    [0, 1, 1, 1, 1, 1, 0, 0, 0, 1, 1, 0, 0, 0, 1, 1, 0, 0, 1, 1, 0, 1, 1, 1, 1], # Q\n",
        "    [1, 1, 1, 1, 0, 1, 0, 0, 0, 1, 1, 1, 1, 1, 0, 1, 0, 0, 1, 0, 1, 0, 0, 1, 1], # R\n",
        "    [0, 1, 1, 1, 1, 1, 0, 0, 1, 0, 0, 1, 1, 1, 0, 0, 0, 0, 0, 1, 1, 1, 1, 1, 0], # S\n",
        "    [1, 1, 1, 1, 1, 0, 0, 1, 0, 0, 1, 0, 1, 0, 0, 0, 0, 1, 0, 0, 0, 0, 1, 0, 0], # T\n",
        "    [1, 0, 1, 0, 1, 1, 0, 0, 0, 1, 1, 0, 0, 0, 1, 1, 0, 0, 0, 1, 0, 1, 1, 1, 0], # U\n",
        "    [1, 0, 0, 0, 1, 1, 0, 0, 0, 1, 1, 0, 0, 0, 1, 0, 1, 0, 1, 0, 1, 0, 1, 0, 0], # V\n",
        "    [1, 0, 0, 0, 1, 1, 0, 0, 1, 1, 1, 0, 1, 0, 1, 1, 1, 0, 1, 1, 1, 0, 0, 0, 1], # W\n",
        "    [1, 0, 0, 0, 1, 0, 1, 0, 1, 0, 1, 0, 1, 0, 0, 0, 1, 0, 1, 0, 1, 0, 0, 0, 1], # X\n",
        "    [1, 0, 0, 0, 1, 0, 1, 0, 1, 0, 1, 0, 1, 0, 0, 0, 0, 1, 0, 0, 0, 0, 1, 0, 0], # Y\n",
        "    [1, 1, 1, 1, 1, 0, 0, 0, 1, 0, 0, 0, 1, 0, 0, 0, 1, 0, 0, 1, 1, 1, 1, 1, 1], # Z\n",
        "])\n",
        "\n",
        "# Testing the perceptron with the input data having noise\n",
        "for xi in X_test:\n",
        "    prediction = perceptron_predict(xi, weights)\n",
        "\n",
        "    print(f\"Input: {xi} - Prediction: {prediction}\")"
      ]
    },
    {
      "cell_type": "markdown",
      "metadata": {},
      "source": [
        "## Alphabet patterns with noise\n",
        "The entries have a specific pattern with noise that will determine the sorting algorithm from one letter to another."
      ]
    },
    {
      "cell_type": "code",
      "execution_count": 21,
      "metadata": {},
      "outputs": [
        {
          "name": "stdout",
          "output_type": "stream",
          "text": [
            "Letter 1:\n",
            "0 1 1 1 0\n",
            "1 0 1 0 1\n",
            "1 1 1 1 1\n",
            "1 0 0 0 1\n",
            "1 0 0 0 1\n",
            "\n",
            "Letter 2:\n",
            "1 1 1 1 0\n",
            "1 0 1 0 1\n",
            "1 1 1 1 0\n",
            "1 0 0 0 1\n",
            "1 1 1 1 0\n",
            "\n",
            "Letter 3:\n",
            "0 1 1 1 1\n",
            "1 0 0 0 0\n",
            "1 0 0 0 0\n",
            "1 0 0 0 1\n",
            "0 1 1 1 1\n",
            "\n",
            "Letter 4:\n",
            "1 1 1 1 0\n",
            "1 0 0 0 1\n",
            "1 0 1 0 1\n",
            "1 0 0 0 1\n",
            "1 1 1 1 0\n",
            "\n",
            "Letter 5:\n",
            "1 1 1 1 1\n",
            "1 1 0 0 0\n",
            "1 1 1 1 1\n",
            "1 0 0 0 0\n",
            "1 1 1 1 1\n",
            "\n",
            "Letter 6:\n",
            "1 1 1 1 1\n",
            "1 0 0 0 0\n",
            "1 1 1 1 0\n",
            "1 0 0 1 0\n",
            "1 0 0 0 0\n",
            "\n",
            "Letter 7:\n",
            "0 1 1 1 1\n",
            "1 0 0 0 0\n",
            "1 0 1 1 1\n",
            "1 0 1 0 1\n",
            "0 1 1 1 1\n",
            "\n",
            "Letter 8:\n",
            "1 0 0 0 1\n",
            "1 0 0 1 1\n",
            "1 1 1 1 1\n",
            "1 0 0 0 1\n",
            "1 0 0 0 1\n",
            "\n",
            "Letter 9:\n",
            "1 1 1 1 1\n",
            "0 1 1 0 0\n",
            "0 0 1 0 0\n",
            "0 0 1 0 0\n",
            "1 1 1 1 1\n",
            "\n",
            "Letter 10:\n",
            "0 1 1 1 1\n",
            "0 0 1 1 0\n",
            "0 0 0 1 0\n",
            "1 0 0 1 0\n",
            "0 1 1 0 0\n",
            "\n",
            "Letter 11:\n",
            "1 0 0 0 1\n",
            "1 0 0 1 0\n",
            "1 1 1 0 0\n",
            "1 0 1 1 0\n",
            "1 0 0 0 1\n",
            "\n",
            "Letter 12:\n",
            "1 0 0 0 0\n",
            "1 0 0 0 0\n",
            "1 0 0 0 0\n",
            "1 0 0 1 0\n",
            "1 1 1 1 1\n",
            "\n",
            "Letter 13:\n",
            "1 0 0 0 1\n",
            "1 1 1 1 1\n",
            "1 0 1 0 1\n",
            "1 0 0 0 1\n",
            "1 0 0 0 1\n",
            "\n",
            "Letter 14:\n",
            "1 0 0 0 1\n",
            "1 1 0 0 1\n",
            "1 0 1 1 1\n",
            "1 0 0 1 1\n",
            "1 0 0 0 1\n",
            "\n",
            "Letter 15:\n",
            "0 1 1 1 0\n",
            "1 0 0 0 1\n",
            "1 0 1 0 1\n",
            "1 0 0 0 1\n",
            "0 1 1 1 0\n",
            "\n",
            "Letter 16:\n",
            "1 1 1 1 0\n",
            "1 0 0 0 1\n",
            "1 1 1 1 0\n",
            "1 0 0 1 0\n",
            "1 0 0 0 0\n",
            "\n",
            "Letter 17:\n",
            "0 1 1 1 1\n",
            "1 0 0 0 1\n",
            "1 0 0 0 1\n",
            "1 0 0 1 1\n",
            "0 1 1 1 1\n",
            "\n",
            "Letter 18:\n",
            "1 1 1 1 0\n",
            "1 0 0 0 1\n",
            "1 1 1 1 0\n",
            "1 0 0 1 0\n",
            "1 0 0 1 1\n",
            "\n",
            "Letter 19:\n",
            "0 1 1 1 1\n",
            "1 0 0 1 0\n",
            "0 1 1 1 0\n",
            "0 0 0 0 1\n",
            "1 1 1 1 0\n",
            "\n",
            "Letter 20:\n",
            "1 1 1 1 1\n",
            "0 0 1 0 0\n",
            "1 0 1 0 0\n",
            "0 0 1 0 0\n",
            "0 0 1 0 0\n",
            "\n",
            "Letter 21:\n",
            "1 0 1 0 1\n",
            "1 0 0 0 1\n",
            "1 0 0 0 1\n",
            "1 0 0 0 1\n",
            "0 1 1 1 0\n",
            "\n",
            "Letter 22:\n",
            "1 0 0 0 1\n",
            "1 0 0 0 1\n",
            "1 0 0 0 1\n",
            "0 1 0 1 0\n",
            "1 0 1 0 0\n",
            "\n",
            "Letter 23:\n",
            "1 0 0 0 1\n",
            "1 0 0 1 1\n",
            "1 0 1 0 1\n",
            "1 1 0 1 1\n",
            "1 0 0 0 1\n",
            "\n",
            "Letter 24:\n",
            "1 0 0 0 1\n",
            "0 1 0 1 0\n",
            "1 0 1 0 0\n",
            "0 1 0 1 0\n",
            "1 0 0 0 1\n",
            "\n",
            "Letter 25:\n",
            "1 0 0 0 1\n",
            "0 1 0 1 0\n",
            "1 0 1 0 0\n",
            "0 0 1 0 0\n",
            "0 0 1 0 0\n",
            "\n",
            "Letter 26:\n",
            "1 1 1 1 1\n",
            "0 0 0 1 0\n",
            "0 0 1 0 0\n",
            "0 1 0 0 1\n",
            "1 1 1 1 1\n",
            "\n"
          ]
        }
      ],
      "source": [
        "# Printing alphabet patterns\n",
        "for i in range(X_test.shape[0]):\n",
        "    print(f\"Letter {i + 1}:\")\n",
        "\n",
        "    for j in range(0, X_test.shape[1], 5):\n",
        "        print(\" \".join(map(str, X_test[i][j:j + 5])))\n",
        "\n",
        "    print()"
      ]
    }
  ],
  "metadata": {
    "colab": {
      "provenance": []
    },
    "kernelspec": {
      "display_name": "Python 3",
      "name": "python3"
    },
    "language_info": {
      "codemirror_mode": {
        "name": "ipython",
        "version": 3
      },
      "file_extension": ".py",
      "mimetype": "text/x-python",
      "name": "python",
      "nbconvert_exporter": "python",
      "pygments_lexer": "ipython3",
      "version": "3.11.5"
    }
  },
  "nbformat": 4,
  "nbformat_minor": 0
}
